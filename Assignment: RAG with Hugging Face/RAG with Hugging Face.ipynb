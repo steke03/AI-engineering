{
  "cells": [
    {
      "cell_type": "markdown",
      "metadata": {
        "id": "28157d44-1592-45d2-9f97-13d791375955"
      },
      "source": [
        "<p style=\"text-align:center\">\n",
        "    <a href=\"https://skills.network\" target=\"_blank\">\n",
        "    <img src=\"https://cf-courses-data.s3.us.cloud-object-storage.appdomain.cloud/assets/logos/SN_web_lightmode.png\" width=\"200\" alt=\"Skills Network Logo\"  />\n",
        "    </a>\n",
        "</p>\n"
      ]
    },
    {
      "cell_type": "markdown",
      "metadata": {
        "id": "bb4f607d-8b89-46b6-b81e-d7f9998d8130"
      },
      "source": [
        "# **Enhance LLMs using RAG and Hugging Face**\n"
      ]
    },
    {
      "cell_type": "markdown",
      "metadata": {
        "id": "8023e009-c14d-4168-bc03-df42c31f0b0b"
      },
      "source": [
        "Estimated time needed: **30** minutes\n"
      ]
    },
    {
      "cell_type": "markdown",
      "metadata": {
        "id": "a06cf440-1699-487a-a218-ecaaba8b7981"
      },
      "source": [
        "Imagine you've been hired to help the HR department build an intelligent question-answering tool for company policies. Employees can input questions such as \"What is our vacation policy?\" or \"How do I submit a reimbursement request?\" and receive instant, clear answers. This tool would save time and help employees understand complex policy documents easily, by automatically providing relevant information instead of searching through pages of text.\n",
        "\n",
        "\n",
        "In this lab, you'll delve into the advanced concept of Retriever-Augmented Generation (RAG), a cutting-edge approach in natural language processing that synergistically combines the powers of retrieval and generation. You will explore how to effectively retrieve relevant information from a large dataset and then use a state-of-the-art sequence-to-sequence model to generate precise answers to complex questions. By integrating tools such as the Dense Passage Retriever (DPR) and the GPT2 model for generation, this lab will equip you with the skills to build a sophisticated question-answering system that can find and synthesize information on-the-fly. Through hands-on coding exercises and implementations, you will gain practical experience in handling real-world NLP challenges, setting up a robust natural language processing (NLP) pipeline, and fine-tuning models to enhance their accuracy and relevance.\n"
      ]
    },
    {
      "cell_type": "markdown",
      "metadata": {
        "id": "7c718018-a262-4856-9033-77901810064c"
      },
      "source": [
        "## __Table of contents__\n",
        "\n",
        "<ol>\n",
        "  <li><a href=\"#Objectives\">Objectives</a></li>\n",
        "  <li>\n",
        "    <a href=\"#Setup\">Setup</a>\n",
        "    <ol>\n",
        "      <li><a href=\"#Installing-required-libraries\">Installing required libraries</a></li>\n",
        "      <li><a href=\"#Importing-required-libraries\">Importing required libraries</a></li>\n",
        "      <li><a href=\"#Defining-helper-functions\">Defining helper functions</a></li>\n",
        "    </ol>\n",
        "  </li>\n",
        "  <li>\n",
        "    <a href=\"#Load-and-preprocess-data\">Load and preprocess data</a>\n",
        "    <ol>\n",
        "      <li><a href=\"#Downloading-the-text-file\">Downloading the text file</a></li>\n",
        "      <li><a href=\"#Reading-and-preprocessing-the-data\">Reading and preprocessing the data</a></li>\n",
        "    </ol>\n",
        "  </li>\n",
        "  <li>\n",
        "    <a href=\"#Building-the-retriever:-Encoding-and-indexing\">Building the retriever: Encoding and indexing</a>\n",
        "    <ol>\n",
        "      <li><a href=\"#Encoding-texts-into-embeddings\">Encoding texts into embeddings</a></li>\n",
        "      <li>\n",
        "        <a href=\"#Creating-and-populating-the-FAISS-index\">Creating and populating the FAISS index</a>\n",
        "        <ol>\n",
        "          <li><a href=\"#Overview-of-FAISS\">Overview of FAISS</a></li>\n",
        "          <li><a href=\"#Using-IndexFlatL2\">Using IndexFlatL2</a></li>\n",
        "        </ol>\n",
        "      </li>\n",
        "    </ol>\n",
        "  </li>\n",
        "  <li>\n",
        "    <a href=\"#DPR-question-encoder-and-tokenizer\">DPR question encoder and tokenizer</a>\n",
        "    <ol>\n",
        "      <li><a href=\"#Distinguishing-DPR-question-and-context-components\">Distinguishing DPR question and context components</a></li>\n",
        "    </ol>\n",
        "  </li>\n",
        "  <li>\n",
        "    <a href=\"#Example-query-and-context-retrieval\">Example query and context retrieval</a>\n",
        "  </li>\n",
        "  <li>\n",
        "    <a href=\"#Enhancing-response-generation-with-large-language-models-(LLM)\">Enhancing response generation with LLMs</a>\n",
        "    <ol>\n",
        "      <li><a href=\"#Loading-models-and-tokenizers\">Loading models and tokenizers</a></li>\n",
        "      <li><a href=\"#GPT2-model-and-tokenizer\">GPT2 model and tokenizer</a></li>\n",
        "      <li><a href=\"#Comparing-answer-generation:-With-and-without-DPR-contexts\">Comparing answer generation: With and without DPR contexts</a>\n",
        "        <ol>\n",
        "          <li><a href=\"#Generating-answers-directly-from-questions\">Generating answers directly from questions</a></li>\n",
        "          <li><a href=\"#Generating-answers-with-DPR-contexts\">Generating answers with DPR contexts</a></li>\n",
        "        </ol>\n",
        "      </li>\n",
        "    </ol>\n",
        "  </li>\n",
        "  <li><a href=\"#Observations-and-results\">Observations and results</a></li>\n",
        "  <li><a href=\"#Exercise:-Tuning-generation-parameters-in-GPT2\">Exercise: Tuning generation parameters in GPT2</a></li>\n",
        "</ol>\n"
      ]
    },
    {
      "cell_type": "markdown",
      "metadata": {
        "id": "38686d63-ba71-4020-ae46-17f8cb4ee1be"
      },
      "source": [
        "## Objectives\n",
        "\n",
        "After completing this lab, you will be able to:\n",
        "\n",
        "- **Understand the concept and components:** Grasp the fundamentals of Retriever-Augmented Generation (RAG), focusing on how retrieval and generation techniques are combined in natural language processing (NLP).\n",
        "- **Implement Dense Passage Retriever (DPR):** Learn to set up and use DPR to efficiently retrieve documents from a large dataset, which is crucial for feeding relevant information into generative models.\n",
        "- **Integrate sequence-to-sequence models:** Explore integrating sequence-to-sequence models such as GPT2 to generate answers based on the contexts provided by DPR, enhancing the accuracy and relevance of responses.\n",
        "- **Build a Question-Answering System:** Gain practical experience by developing a question-answering system that utilizes both DPR and GPT2, mimicking real-world applications.\n",
        "- **Fine-tune and optimize NLP models:** Acquire skills in fine-tuning and optimizing NLP models to improve their performance and suitability for specific tasks or datasets.\n",
        "- **Use professional NLP tools:** Get familiar with using advanced NLP tools and libraries, such as Hugging Face’s transformers and dataset libraries, to implement sophisticated NLP solutions.\n"
      ]
    },
    {
      "cell_type": "markdown",
      "metadata": {
        "id": "c253185f-480d-4f91-be4b-68f996ebea6f"
      },
      "source": [
        "----\n"
      ]
    },
    {
      "cell_type": "markdown",
      "metadata": {
        "id": "86922481-7073-470d-9acf-f86e9894fe23"
      },
      "source": [
        "# Setup\n"
      ]
    },
    {
      "cell_type": "markdown",
      "metadata": {
        "id": "807af8c3-7ca8-42e9-a9f0-f602a9d28fa4"
      },
      "source": [
        "In this lab, you'll use several libraries tailored for natural language processing, data manipulation, and efficient computation:\n",
        "\n",
        "- **[wget](https://pypi.org/project/wget/)**: Used to download files from the internet, essential for fetching datasets or pretrained models.\n",
        "\n",
        "- **[torch](https://pytorch.org/)**: PyTorch library, fundamental for machine learning and neural network operations, provides GPU acceleration and dynamic neural network capabilities.\n",
        "\n",
        "- **[numpy](https://numpy.org/)**: A staple for numerical operations in Python, used for handling arrays and matrices.\n",
        "\n",
        "- **[faiss](https://github.com/facebookresearch/faiss)**: Specialized for efficient similarity search and clustering of dense vectors, crucial for information retrieval tasks.\n",
        "\n",
        "- **[transformers](https://huggingface.co/transformers/)**: Offers a multitude of pretrained models for a variety of NLP tasks, for example:\n",
        "  \n",
        "  **DPRQuestionEncoder**, **DPRContextEncoder**: Encode questions and contexts into vector embeddings for retrieval.\n",
        "\n",
        "- **[tokenizers](https://huggingface.co/docs/tokenizers/)**: Tools that convert input text into numerical representations (tokens) compatible with specific models, ensuring effective processing and understanding by the models, for example:\n",
        "\n",
        "  **[DPRQuestionEncoderTokenizer](https://huggingface.co/transformers/model_doc/dpr.html)**, **[DPRContextEncoderTokenizer](https://huggingface.co/transformers/model_doc/dpr.html)**: Convert text into formats suitable for their respective models, ensuring optimal performance for processing and generating text.\n",
        "\n",
        "These tools are integral to developing the question-answering system in this lab, covering everything from data downloading and preprocessing to advanced machine learning tasks.\n"
      ]
    },
    {
      "cell_type": "markdown",
      "metadata": {
        "id": "8a4c5498-4a9c-4206-adc3-b216bd844c2a"
      },
      "source": [
        "## Installing required libraries\n"
      ]
    },
    {
      "cell_type": "markdown",
      "metadata": {
        "id": "eb02803e-9ef2-4b13-ae37-7f036849bb62"
      },
      "source": [
        "Before starting with the lab exercises, it's crucial to set up your working environment with the necessary libraries. This setup ensures that all the tools and libraries needed for implementing and running the RAG-based solutions are available.\n",
        "The following required libraries are __not__ preinstalled in the Skills Network Labs environment. __You will need to run the following cell__ to install them.\n",
        "\n",
        "***Note : After installing please ensure that you restart the kernel and execute the subsequent cells.***\n"
      ]
    },
    {
      "cell_type": "code",
      "execution_count": null,
      "metadata": {
        "colab": {
          "base_uri": "https://localhost:8080/"
        },
        "collapsed": true,
        "id": "f53ed8d6-ca3d-4553-8876-5c76b6619154",
        "outputId": "7a9aaa79-5c8c-4f6c-a498-57338ea7aa8f"
      },
      "outputs": [],
      "source": [
        "!pip install --user transformers datasets torch faiss-cpu wget"
      ]
    },
    {
      "cell_type": "code",
      "execution_count": null,
      "metadata": {
        "colab": {
          "base_uri": "https://localhost:8080/"
        },
        "collapsed": true,
        "id": "efeabbde-aa42-4e66-ab97-36efd88373fb",
        "outputId": "af767af0-9f35-480a-e5b0-20c784624a6c"
      },
      "outputs": [],
      "source": [
        "!pip install --user matplotlib scikit-learn"
      ]
    },
    {
      "cell_type": "markdown",
      "metadata": {
        "id": "5cc29c9e-1479-49f9-9d0a-ee972b80e1c6"
      },
      "source": [
        "## Importing required libraries\n",
        "It is recommended that you import all required libraries in one place (here):_\n"
      ]
    },
    {
      "cell_type": "code",
      "execution_count": 1,
      "metadata": {
        "id": "321a15bd-a3b9-4f18-844b-3837e5ef3b58"
      },
      "outputs": [],
      "source": [
        "import wget\n",
        "from transformers import DPRContextEncoder, DPRContextEncoderTokenizer\n",
        "import torch\n",
        "\n",
        "import numpy as np\n",
        "import random\n",
        "from transformers import DPRQuestionEncoder, DPRQuestionEncoderTokenizer\n",
        "from transformers import AutoTokenizer, AutoModelForCausalLM\n",
        "\n",
        "\n",
        "import matplotlib.pyplot as plt\n",
        "from mpl_toolkits.mplot3d import Axes3D\n",
        "from sklearn.manifold import TSNE\n",
        "import numpy as np\n",
        "\n",
        "# You can also use this section to suppress warnings generated by your code:\n",
        "def warn(*args, **kwargs):\n",
        "    pass\n",
        "import warnings\n",
        "warnings.warn = warn\n",
        "warnings.filterwarnings('ignore')"
      ]
    },
    {
      "cell_type": "markdown",
      "metadata": {
        "id": "21785b95-2282-403c-9ecb-39a3474b2ff9"
      },
      "source": [
        "# Defining helper functions\n"
      ]
    },
    {
      "cell_type": "code",
      "execution_count": 2,
      "metadata": {
        "id": "35e2f69f-3fd0-4663-b3f4-cb16721215c7"
      },
      "outputs": [],
      "source": [
        "def tsne_plot(data):\n",
        "    # Apply t-SNE to reduce to 3D\n",
        "    tsne = TSNE(n_components=3, random_state=42,perplexity=data.shape[0]-1)\n",
        "    data_3d = tsne.fit_transform(data)\n",
        "\n",
        "    # Plotting\n",
        "    fig = plt.figure(figsize=(10, 7))\n",
        "    ax = fig.add_subplot(111, projection='3d')\n",
        "\n",
        "    # Assign colors for each point based on its index\n",
        "    num_points = len(data_3d)\n",
        "    colors = plt.cm.tab20(np.linspace(0, 1, num_points))\n",
        "\n",
        "    # Plot scatter with unique colors for each point\n",
        "    for idx, point in enumerate(data_3d):\n",
        "        ax.scatter(point[0], point[1], point[2], label=str(idx), color=colors[idx])\n",
        "\n",
        "    # Adding labels and titles\n",
        "    ax.set_xlabel('TSNE Component 1')\n",
        "    ax.set_ylabel('TSNE Component 2')\n",
        "    ax.set_zlabel('TSNE Component 3')\n",
        "    plt.title('3D t-SNE Visualization')\n",
        "    plt.legend(title='Input Order')\n",
        "    plt.show()"
      ]
    },
    {
      "cell_type": "markdown",
      "metadata": {
        "id": "ebd3b6f1-bd99-4d6e-bbe1-66f0741fcd93"
      },
      "source": [
        "# Load and preprocess data\n",
        "\n",
        "This part of the lab focuses on loading and preparing the text data for the question-answering system. You will start by downloading a specific text file and then reading and preprocessing it to make it suitable for NLP tasks.\n",
        "\n",
        "## Downloading the text file\n",
        "\n",
        "The `wget` library is used to download the text file containing the data. This file, named `companyPolicies.txt`, contains various company policies formatted in plain text. Here is how you download it:\n"
      ]
    },
    {
      "cell_type": "code",
      "execution_count": 3,
      "metadata": {
        "colab": {
          "base_uri": "https://localhost:8080/"
        },
        "id": "8bc99697-34e0-44a2-b8ae-f3803d7d572f",
        "outputId": "57e25ed0-bd60-455e-bcd1-2e6f35bc5a2c"
      },
      "outputs": [
        {
          "name": "stdout",
          "output_type": "stream",
          "text": [
            "file downloaded\n"
          ]
        }
      ],
      "source": [
        "filename = 'companyPolicies.txt'\n",
        "url = 'https://cf-courses-data.s3.us.cloud-object-storage.appdomain.cloud/6JDbUb_L3egv_eOkouY71A.txt'\n",
        "\n",
        "# Use wget to download the file\n",
        "wget.download(url, out=filename)\n",
        "print('file downloaded')"
      ]
    },
    {
      "cell_type": "markdown",
      "metadata": {
        "id": "8a9402a6-8bb0-4b97-b614-d1cb12b4e86a"
      },
      "source": [
        "## Reading and preprocessing the data\n",
        "Once the file is downloaded, the next step is to read and preprocess the text. This involves opening the file, reading its contents, and splitting the text into individual paragraphs. Each paragraph represents a section of the company policies. You can also filter out any empty paragraphs to clean your dataset:\n"
      ]
    },
    {
      "cell_type": "code",
      "execution_count": 4,
      "metadata": {
        "colab": {
          "base_uri": "https://localhost:8080/"
        },
        "id": "07fa0fe2-8e9b-4597-b10a-4549db05f124",
        "outputId": "786cce45-bd7d-4e3f-b864-882de55a7606"
      },
      "outputs": [
        {
          "data": {
            "text/plain": [
              "['1.\\tCode of Conduct',\n",
              " 'Our Code of Conduct outlines the fundamental principles and ethical standards that guide every member of our organization. We are committed to maintaining a workplace that is built on integrity, respect, and accountability.',\n",
              " 'Integrity: We hold ourselves to the highest ethical standards. This means acting honestly and transparently in all our interactions, whether with colleagues, clients, or the broader community. We respect and protect sensitive information, and we avoid conflicts of interest.',\n",
              " \"Respect: We embrace diversity and value each individual's contributions. Discrimination, harassment, or any form of disrespectful behavior is unacceptable. We create an inclusive environment where differences are celebrated and everyone is treated with dignity and courtesy.\",\n",
              " 'Accountability: We take responsibility for our actions and decisions. We follow all relevant laws and regulations, and we strive to continuously improve our practices. We report any potential violations of this code and support the investigation of such matters.',\n",
              " 'Safety: We prioritize the safety of our employees, clients, and the communities we serve. We maintain a culture of safety, including reporting any unsafe conditions or practices.',\n",
              " 'Environmental Responsibility: We are committed to minimizing our environmental footprint and promoting sustainable practices.',\n",
              " \"Our Code of Conduct is not just a set of rules; it is the foundation of our organization's culture. We expect all employees to uphold these principles and serve as role models for others, ensuring we maintain our reputation for ethical conduct, integrity, and social responsibility.\",\n",
              " '2.\\tRecruitment Policy',\n",
              " 'Our Recruitment Policy reflects our commitment to attracting, selecting, and onboarding the most qualified and diverse candidates to join our organization. We believe that the success of our company relies on the talents, skills, and dedication of our employees.']"
            ]
          },
          "execution_count": 4,
          "metadata": {},
          "output_type": "execute_result"
        }
      ],
      "source": [
        "def read_and_split_text(filename):\n",
        "    with open(filename, 'r', encoding='utf-8') as file:\n",
        "        text = file.read()\n",
        "    # Split the text into paragraphs (simple split by newline characters)\n",
        "    paragraphs = text.split('\\n')\n",
        "    # Filter out any empty paragraphs or undesired entries\n",
        "    paragraphs = [para.strip() for para in paragraphs if len(para.strip()) > 0]\n",
        "    return paragraphs\n",
        "\n",
        "# Read the text file and split it into paragraphs\n",
        "paragraphs = read_and_split_text('companyPolicies.txt')\n",
        "paragraphs[0:10]"
      ]
    },
    {
      "cell_type": "markdown",
      "metadata": {
        "id": "01dd299e-15d6-485d-afb4-3106ab736ad1"
      },
      "source": [
        "Lets look at the first few samples from the file:\n"
      ]
    },
    {
      "cell_type": "code",
      "execution_count": 5,
      "metadata": {
        "colab": {
          "base_uri": "https://localhost:8080/"
        },
        "id": "4cfca086-0c7c-4fa8-acde-555afce94dd1",
        "outputId": "7caeec30-9cf7-4d4a-8c72-7ea5e534eb77"
      },
      "outputs": [
        {
          "name": "stdout",
          "output_type": "stream",
          "text": [
            "sample: 0 paragraph: 1.\tCode of Conduct \n",
            "\n",
            "sample: 1 paragraph: Our Code of Conduct outlines the fundamental principles and ethical standards that guide every member of our organization. We are committed to maintaining a workplace that is built on integrity, respect, and accountability. \n",
            "\n",
            "sample: 2 paragraph: Integrity: We hold ourselves to the highest ethical standards. This means acting honestly and transparently in all our interactions, whether with colleagues, clients, or the broader community. We respect and protect sensitive information, and we avoid conflicts of interest. \n",
            "\n",
            "sample: 3 paragraph: Respect: We embrace diversity and value each individual's contributions. Discrimination, harassment, or any form of disrespectful behavior is unacceptable. We create an inclusive environment where differences are celebrated and everyone is treated with dignity and courtesy. \n",
            "\n"
          ]
        }
      ],
      "source": [
        "for i in range(4):\n",
        "    print(f\"sample: {i} paragraph: {paragraphs[i]} \\n\" )"
      ]
    },
    {
      "cell_type": "markdown",
      "metadata": {
        "id": "4afb62f8-98c2-43f8-85e9-05caf53367fd"
      },
      "source": [
        "You are encouraged to substitute `companyPolicies.txt` with any other text file or set of files relevant to your interests or projects. This allows for experimentation with different types of content and formats, enhancing your learning experience and adaptability of the skills taught in this lab.\n"
      ]
    },
    {
      "cell_type": "markdown",
      "metadata": {
        "id": "5e17dd20-8b91-40ce-aa4d-a7ec4bb45de8"
      },
      "source": [
        "# Building the retriever: Encoding and indexing\n",
        "Encoding documents involves converting the text into numerical data that computers can process. This process starts by cleaning the text and then using special tools to transform the words into numerical representations (vectors). These vectors make it easier to search and retrieve relevant documents based on what the user is looking for.\n",
        "\n",
        "In this section, you will prepare your text data for efficient retrieval by encoding the paragraphs into vector embeddings, i.e., contextual embeddings, and then indexing these embeddings using FAISS. This allows your question-answering system to quickly find the most relevant information when processing queries.\n"
      ]
    },
    {
      "cell_type": "markdown",
      "metadata": {
        "id": "15caeae1-1fe7-4d83-a613-5053103135d8"
      },
      "source": [
        "## Encoding texts into embeddings\n",
        "\n",
        "Let's use the Dense Passage Retriever (DPR) model, specifically the context encoder, to convert your preprocessed text data into dense vector embeddings. These embeddings capture the semantic meanings of the texts, enabling effective similarity-based retrieval. DPR models, such as the the DPRContextEncoder and DPRContextEncoderTokenizer, are built on the BERT architecture but specialize in dense passage retrieval. They differ from BERT in their training, which focuses on contrastive learning for retrieving relevant passages, while BERT is more general-purpose, handling various NLP tasks.\n"
      ]
    },
    {
      "cell_type": "markdown",
      "metadata": {
        "id": "ebe857e0-8c53-43b4-9976-ebbdeba6dfaa"
      },
      "source": [
        "Let's break down each step:\n"
      ]
    },
    {
      "cell_type": "markdown",
      "metadata": {
        "id": "725cf57d-ff07-4e26-ab80-5f230117f0b2"
      },
      "source": [
        "\n",
        "**1. Tokenization**: Each text is tokenized to format it in a way that is compatible with the encoder. This involves converting text into a sequence of tokens with attention masks, ensuring uniform length through padding and managing text size through truncation.\n"
      ]
    },
    {
      "cell_type": "markdown",
      "metadata": {
        "id": "16a8c597-6d3a-47f3-b736-391f3896d91b"
      },
      "source": [
        "```DPRContextEncoderTokenizer``` object is identical to ```BertTokenizer``` and runs end-to-end tokenization including punctuation splitting and wordpiece. Consider the following sample:\n"
      ]
    },
    {
      "cell_type": "code",
      "execution_count": null,
      "metadata": {
        "colab": {
          "base_uri": "https://localhost:8080/",
          "height": 68
        },
        "id": "c202c3ca-95ac-4312-a42a-53d76177f082",
        "outputId": "18c0d894-6920-43df-c852-661fdaea6717"
      },
      "outputs": [],
      "source": [
        "%%capture\n",
        "context_tokenizer = DPRContextEncoderTokenizer.from_pretrained('facebook/dpr-ctx_encoder-single-nq-base')\n",
        "context_tokenizer"
      ]
    },
    {
      "cell_type": "code",
      "execution_count": 7,
      "metadata": {
        "colab": {
          "base_uri": "https://localhost:8080/"
        },
        "id": "a885e73d-47f5-423b-ab18-4a6a40e7a1b3",
        "outputId": "10b0729d-21a4-4a1f-f3eb-30f3eeb6ea8d"
      },
      "outputs": [
        {
          "name": "stdout",
          "output_type": "stream",
          "text": [
            "[('How are you?', 'I am fine.'), (\"What's up?\", 'Not much.')]\n"
          ]
        }
      ],
      "source": [
        "text = [(\"How are you?\", \"I am fine.\"), (\"What's up?\", \"Not much.\")]\n",
        "print(text)"
      ]
    },
    {
      "cell_type": "markdown",
      "metadata": {
        "id": "c440410e-7189-4eab-a05f-3996819afe25"
      },
      "source": [
        "You can view the token indexes. Let's apply it to the text.\n"
      ]
    },
    {
      "cell_type": "code",
      "execution_count": 8,
      "metadata": {
        "colab": {
          "base_uri": "https://localhost:8080/"
        },
        "id": "3fb132b0-8ea7-4c23-82ae-23caf4046e69",
        "outputId": "fac1506c-cb8f-4840-d148-f003516caee9"
      },
      "outputs": [
        {
          "data": {
            "text/plain": [
              "{'input_ids': tensor([[ 101, 2129, 2024, 2017, 1029,  102, 1045, 2572, 2986, 1012,  102],\n",
              "        [ 101, 2054, 1005, 1055, 2039, 1029,  102, 2025, 2172, 1012,  102]]), 'token_type_ids': tensor([[0, 0, 0, 0, 0, 0, 1, 1, 1, 1, 1],\n",
              "        [0, 0, 0, 0, 0, 0, 0, 1, 1, 1, 1]]), 'attention_mask': tensor([[1, 1, 1, 1, 1, 1, 1, 1, 1, 1, 1],\n",
              "        [1, 1, 1, 1, 1, 1, 1, 1, 1, 1, 1]])}"
            ]
          },
          "execution_count": 8,
          "metadata": {},
          "output_type": "execute_result"
        }
      ],
      "source": [
        "tokens_info=context_tokenizer(text, return_tensors='pt', padding=True, truncation=True, max_length=256)\n",
        "tokens_info"
      ]
    },
    {
      "cell_type": "markdown",
      "metadata": {
        "id": "e40476d2-4b31-4ac6-ab0a-3c4d240a8c29"
      },
      "source": [
        "- `token_type_ids`: These are segment embeddings used to distinguish different sentences or segments within the input. This is particularly useful in tasks that involve multiple types of input, such as question answering, where questions and context may need to be differentiated.\n",
        "\n",
        "- `attention_mask`: The attention mask indicates which tokens should be attended to by the model. It has a value of 1 for actual tokens in the input sentences and 0 for padding tokens, ensuring that the model focuses only on meaningful data.\n",
        "\n",
        "-  `input_ids`: These represent the indices of tokens in the tokenizer's vocabulary. To translate these indices back into readable tokens, you can use the method `convert_ids_to_tokens` provided by the tokenizer. Here's an example of how to use this method:\n"
      ]
    },
    {
      "cell_type": "code",
      "execution_count": 9,
      "metadata": {
        "colab": {
          "base_uri": "https://localhost:8080/"
        },
        "id": "277a085c-fe37-495b-9e06-79b8018f6127",
        "outputId": "945b5ef7-921a-4009-91fa-84e74d0cca21"
      },
      "outputs": [
        {
          "name": "stdout",
          "output_type": "stream",
          "text": [
            "['[CLS]', 'how', 'are', 'you', '?', '[SEP]', 'i', 'am', 'fine', '.', '[SEP]']\n",
            "['[CLS]', 'what', \"'\", 's', 'up', '?', '[SEP]', 'not', 'much', '.', '[SEP]']\n"
          ]
        }
      ],
      "source": [
        "for s in tokens_info['input_ids']:\n",
        "   print(context_tokenizer.convert_ids_to_tokens(s))"
      ]
    },
    {
      "cell_type": "markdown",
      "metadata": {
        "id": "f0268240-f125-411d-9263-9b99491c724a"
      },
      "source": [
        "**2. Encoding**: The tokenized texts are then fed into the `context_encoder`. This model processes the inputs and produces a pooled output for each, effectively compressing the information of an entire text into a single, dense vector embedding that represents the semantic essence of the text.\n"
      ]
    },
    {
      "cell_type": "markdown",
      "metadata": {
        "id": "c71a77e2-8da1-42dc-84fd-1f49f17a4051"
      },
      "source": [
        "DPR models, including the ```DPRContextEncoder```, are based on the BERT architecture but specialize in dense passage retrieval. They differ from BERT in their training, which focuses on contrastive learning for retrieving relevant passages, while BERT is more general-purpose, handling various NLP tasks.\n"
      ]
    },
    {
      "cell_type": "code",
      "execution_count": null,
      "metadata": {
        "colab": {
          "base_uri": "https://localhost:8080/",
          "height": 120,
          "referenced_widgets": [
            "9d564860fc4f42a4a1110c0de3625455",
            "29ee4b168a4949849fcdee9c34abdf22",
            "48605fb6a061439b806c849891200ef9",
            "0e09f39352fa4e5e932ac3be95f09c3e",
            "2cd50fb12f434040adf4706a04aeb41d",
            "dd6becef1055470a9c0e999cdbd2df52",
            "5b737bdcbcc74aa089ccb34219bcd650",
            "91e57680f111461faf5ccffbc1244433",
            "7b2a5da56df54e8ba22d399704ae258d",
            "3562f6324e1144278bd3c6b4f1b53315",
            "5d91af834bf5404284520d136a6b4555"
          ]
        },
        "id": "570fe715-fe42-4e4a-bd8c-83517dbe4319",
        "outputId": "78c09775-7a92-45c2-9bf0-9d82dd149b4b"
      },
      "outputs": [],
      "source": [
        "context_encoder = DPRContextEncoder.from_pretrained('facebook/dpr-ctx_encoder-single-nq-base')"
      ]
    },
    {
      "cell_type": "markdown",
      "metadata": {
        "id": "937e6378-076c-4389-8e5c-55f72178d3ba"
      },
      "source": [
        "The `context_tokenizer` and `context_encoder` work together to process text data, transforming paragraphs into contextual embeddings suitable for further NLP tasks. Here's how these components are applied to the first 20 paragraphs from a list:\n",
        "   - The `context_tokenizer` takes the first 20 paragraphs and converts each into a sequence of token IDs, formatted specifically as input to a PyTorch model. This process includes:\n",
        "     - **Padding**: To ensure uniformity, shorter text sequences are padded with zeros to reach the specified maximum length of 256 tokens.\n",
        "     - **Truncation**: Longer texts are cut off at 256 tokens to maintain consistency across all inputs.\n",
        "   - The tokenized data is then passed to the `context_encoder`, which processes these token sequences to produce contextual embeddings. Each output embedding vector from the encoder represents the semantic content of its corresponding paragraph, encapsulating key informational and contextual nuances.\n",
        "   - The encoder outputs a PyTorch tensor where each row corresponds to a different paragraph's embedding. The shape of this tensor, determined by the number of paragraphs processed and the embedding dimensions, reflects the detailed, contextualized representation of each paragraph's content.\n"
      ]
    },
    {
      "cell_type": "code",
      "execution_count": 11,
      "metadata": {
        "id": "ad4aa306-4faa-478e-8a7f-4ee21a90784d"
      },
      "outputs": [],
      "source": [
        "#shuffling samples so that the samples are not ordered based on the category they belong to\n",
        "random.shuffle(paragraphs)"
      ]
    },
    {
      "cell_type": "code",
      "execution_count": 12,
      "metadata": {
        "colab": {
          "base_uri": "https://localhost:8080/"
        },
        "id": "87ed80ef-9b09-448b-9afc-317676f9a8c0",
        "outputId": "5589ccf6-300f-4d09-9b4f-ed101ae20644"
      },
      "outputs": [
        {
          "data": {
            "text/plain": [
              "tensor([[ 0.1054,  0.0770, -0.0520,  ..., -0.5137, -0.6541, -0.0235],\n",
              "        [ 0.2240,  0.2006,  0.1992,  ...,  0.0155, -0.4007, -0.0060],\n",
              "        [ 0.2918,  0.3407,  0.0421,  ..., -0.4342, -0.5157,  0.1139],\n",
              "        ...,\n",
              "        [ 0.4181, -0.2022,  0.3758,  ...,  0.0519, -0.1652,  0.4671],\n",
              "        [ 0.1740,  0.3478,  0.1819,  ..., -0.4684, -0.5166,  0.0325],\n",
              "        [ 0.4688,  0.7535,  0.2103,  ..., -0.6011, -0.3837, -0.3497]],\n",
              "       grad_fn=<SliceBackward0>)"
            ]
          },
          "execution_count": 12,
          "metadata": {},
          "output_type": "execute_result"
        }
      ],
      "source": [
        "tokens=context_tokenizer( paragraphs[:20], return_tensors='pt', padding=True, truncation=True, max_length=256)\n",
        "tokens\n",
        "outputs=context_encoder(**tokens)\n",
        "outputs.pooler_output"
      ]
    },
    {
      "cell_type": "markdown",
      "metadata": {
        "id": "92e19c8a-a66b-458b-8061-04320513b303"
      },
      "source": [
        "**t-SNE (t-Distributed Stochastic Neighbor Embedding)** is an effective method for visualizing high-dimensional data, making it particularly useful for analyzing outputs from ```DPRContextEncoder``` models. The ```DPRContextEncoder``` encodes passages into dense vectors that capture their semantic meanings within a high-dimensional space. Applying t-SNE to these dense vectors allows you to reduce their dimensionality to two or three dimensions. This reduction creates a visual representation that preserves the relationships between passages, enabling you to explore clusters of similar passages and discern patterns that might otherwise remain hidden in the high-dimensional space. The resulting plots provide insights into how the model differentiates between different types of passages and reveal the inherent structure within the encoded data.\n"
      ]
    },
    {
      "cell_type": "code",
      "execution_count": 13,
      "metadata": {
        "colab": {
          "base_uri": "https://localhost:8080/",
          "height": 598
        },
        "id": "ca819721-a535-4a0d-a5dd-f649a45f3cb8",
        "outputId": "ab1ccc0f-1a19-4503-880b-3da7ad719d0a"
      },
      "outputs": [
        {
          "data": {
            "image/png": "[encoded data removed]",
            "text/plain": [
              "<Figure size 1000x700 with 1 Axes>"
            ]
          },
          "metadata": {},
          "output_type": "display_data"
        }
      ],
      "source": [
        "tsne_plot(outputs.pooler_output.detach().numpy())"
      ]
    },
    {
      "cell_type": "markdown",
      "metadata": {
        "id": "1000be71-d29c-4f57-9bba-659e3cd876dc"
      },
      "source": [
        "Samples 16 and 12 are closer to each other on the graph shown above. Let's view the corresponding paragraphs:\n"
      ]
    },
    {
      "cell_type": "code",
      "execution_count": 14,
      "metadata": {
        "colab": {
          "base_uri": "https://localhost:8080/"
        },
        "id": "69349221-9edf-4bb2-b1c7-d6394a164b05",
        "outputId": "505f185e-d340-4f51-9707-4efcdd2dc777"
      },
      "outputs": [
        {
          "name": "stdout",
          "output_type": "stream",
          "text": [
            "sample 16: Impairment: Employees are expected to perform their job duties without impairment from drugs or alcohol. The use of substances that could impair job performance or pose a safety risk is prohibited.\n"
          ]
        }
      ],
      "source": [
        "print(\"sample 16:\", paragraphs[16])"
      ]
    },
    {
      "cell_type": "code",
      "execution_count": 15,
      "metadata": {
        "colab": {
          "base_uri": "https://localhost:8080/"
        },
        "id": "8a18cfa3-2d73-47cf-a1ad-ccdf72e122de",
        "outputId": "48b1d8f5-d329-47e9-e4aa-2ba36d7730e6"
      },
      "outputs": [
        {
          "name": "stdout",
          "output_type": "stream",
          "text": [
            "sample 12: Acceptable Use: Mobile devices are primarily intended for work-related tasks. Limited personal usage is allowed, provided it does not disrupt work obligations.\n"
          ]
        }
      ],
      "source": [
        "print(\"sample 12:\", paragraphs[12])"
      ]
    },
    {
      "cell_type": "markdown",
      "metadata": {
        "id": "4a17d0dd-e19e-452c-b411-594a51669ae9"
      },
      "source": [
        "Both samples discuss diversity. Rather than relying solely on visual inspection, distances between embeddings are employed to determine the relevance of retrieved documents or passages. This involves comparing the query’s embedding with the embeddings of candidate documents, enabling a precise and objective measure of relevance.\n"
      ]
    },
    {
      "cell_type": "markdown",
      "metadata": {
        "id": "a0562fe3-9737-4df9-add7-80192cdbdc7e"
      },
      "source": [
        " **3. Aggregation**: All individual embeddings generated from the texts are then aggregated into a single `NumPy` array. This aggregation is essential for subsequent processing steps, such as indexing, which facilitates efficient similarity searches.\n",
        "\n",
        "This methodological approach efficiently transforms paragraphs into a form that retains crucial semantic information in a compact vector format, making it ideal for the retrieval tasks necessary in this lab. Now, compile a list containing each sample, where each sample has specific dimensions.\n"
      ]
    },
    {
      "cell_type": "code",
      "execution_count": 16,
      "metadata": {
        "colab": {
          "base_uri": "https://localhost:8080/"
        },
        "id": "4dcacc40-9f8c-4421-bb47-aeb8d77b7d5a",
        "outputId": "b197389d-5e05-4c85-a575-1fe636d53d8a"
      },
      "outputs": [
        {
          "name": "stdout",
          "output_type": "stream",
          "text": [
            "number of samples:\n",
            "1\n",
            " samples shape:\n",
            "torch.Size([1, 768])\n",
            "number of samples:\n",
            "2\n",
            " samples shape:\n",
            "torch.Size([1, 768])\n",
            "number of samples:\n",
            "3\n",
            " samples shape:\n",
            "torch.Size([1, 768])\n",
            "number of samples:\n",
            "4\n",
            " samples shape:\n",
            "torch.Size([1, 768])\n",
            "number of samples:\n",
            "5\n",
            " samples shape:\n",
            "torch.Size([1, 768])\n"
          ]
        }
      ],
      "source": [
        "embeddings=[]\n",
        "for text in paragraphs[0:5]:\n",
        "    inputs = context_tokenizer(text, return_tensors='pt', padding=True, truncation=True, max_length=256)\n",
        "    outputs = context_encoder(**inputs)\n",
        "    embeddings.append(outputs.pooler_output)\n",
        "    print(\"number of samples:\")\n",
        "    print(len(embeddings))\n",
        "    print(\" samples shape:\")\n",
        "    print(outputs.pooler_output.shape)"
      ]
    },
    {
      "cell_type": "code",
      "execution_count": 17,
      "metadata": {
        "colab": {
          "base_uri": "https://localhost:8080/"
        },
        "id": "18ab53b0-a084-42d9-896c-96fa3861547c",
        "outputId": "990b1338-4494-4548-966d-14cab0b43ca6"
      },
      "outputs": [
        {
          "data": {
            "text/plain": [
              "(5, 768)"
            ]
          },
          "execution_count": 17,
          "metadata": {},
          "output_type": "execute_result"
        }
      ],
      "source": [
        "torch.cat(embeddings).detach().numpy().shape"
      ]
    },
    {
      "cell_type": "markdown",
      "metadata": {
        "id": "242920d1-e376-4ca8-a7cc-dbc4afc0cb51"
      },
      "source": [
        "Now, let's consolidate all the steps into a function:\n"
      ]
    },
    {
      "cell_type": "code",
      "execution_count": 18,
      "metadata": {
        "id": "59eefab0-9a20-49c3-9694-9dbcdf7e0c7e"
      },
      "outputs": [],
      "source": [
        "def encode_contexts(text_list):\n",
        "    # Encode a list of texts into embeddings\n",
        "    embeddings = []\n",
        "    for text in text_list:\n",
        "        inputs = context_tokenizer(text, return_tensors='pt', padding=True, truncation=True, max_length=256)\n",
        "        outputs = context_encoder(**inputs)\n",
        "        embeddings.append(outputs.pooler_output)\n",
        "    return torch.cat(embeddings).detach().numpy()\n",
        "\n",
        "# you would now encode these paragraphs to create embeddings.\n",
        "context_embeddings = encode_contexts(paragraphs)"
      ]
    },
    {
      "cell_type": "markdown",
      "metadata": {
        "id": "62daa983-b165-4ab1-8fa0-37bf14cf9333"
      },
      "source": [
        "## Creating and populating the FAISS index\n",
        "\n",
        "After the text paragraphs are encoded into dense vector embeddings, the next crucial step is to create and populate an FAISS index. Facebook AI Similarity Search (FAISS) is an efficient library developed by Facebook for similarity search and clustering of dense vectors.\n",
        "\n",
        "#### Overview of FAISS\n",
        "- **Efficiency**: FAISS is designed for fast similarity search, which is particularly valuable when dealing with large datasets. It is highly suitable for tasks in natural language processing where retrieval speed is critical.\n",
        "- **Scalability**: It effectively handles large volumes of data, maintaining performance even as dataset sizes increase.\n",
        "\n",
        "#### Using IndexFlatL2\n",
        "- **Index type**: `IndexFlatL2` is one of the simplest and most used indexes in FAISS. It computes the Euclidean distance (L2 norm) between the query vector and the dataset vectors to determine similarity. This method is straightforward but very effective for many use cases where the exact distance calculation is crucial.\n",
        "- **Application**: This type of index is particularly useful in retrieval systems where the task is to find the most relevant documents or information that closely matches the query vector.\n"
      ]
    },
    {
      "cell_type": "code",
      "execution_count": 19,
      "metadata": {
        "id": "daffcbe6-a3d2-402d-b81d-d05a7e83c714"
      },
      "outputs": [],
      "source": [
        "import faiss\n",
        "\n",
        "# Convert list of numpy arrays into a single numpy array\n",
        "embedding_dim = 768  # This should match the dimension of your embeddings\n",
        "context_embeddings_np = np.array(context_embeddings).astype('float32')\n",
        "\n",
        "# Create a FAISS index for the embeddings\n",
        "index = faiss.IndexFlatL2(embedding_dim)\n",
        "index.add(context_embeddings_np)  # Add the context embeddings to the index"
      ]
    },
    {
      "cell_type": "markdown",
      "metadata": {
        "id": "61e9e912-9dba-4f60-a049-39500d9d01de"
      },
      "source": [
        "# DPR question encoder and tokenizer\n",
        "The Dense Passage Retriever (DPR) is instrumental in effectively retrieving relevant documents or passages for a given question. Let's load the ```DPRQuestionEncoder``` and ```DPRQuestionEncoderTokenizer``` for encoding questions:\n",
        "\n",
        "- **Question encoder**: The DPR question encoder is designed to convert questions into dense vector embeddings. This process enhances the system's ability to efficiently match and retrieve relevant content from a vast corpus, which is vital for answering queries accurately.\n",
        "\n",
        "- **Tokenizer**: The tokenizer for the DPR question encoder plays a crucial role in preparing input questions by:\n",
        "  - **Standardizing text**: It converts raw text into a standardized sequence of token IDs.\n",
        "  - **Processing inputs**: These token IDs are then processed by the question encoder to produce embeddings that effectively represent the semantic intent of the questions.\n",
        "\n",
        "## Distinguishing DPR question and context components\n",
        "\n",
        "While both the DPR question encoder and DPR context encoder serve crucial roles within the DPR framework, they are optimized for different aspects of the retrieval process:\n",
        "\n",
        "- **DPR question encoder and tokenizer**: These components are specifically tuned to process and encode queries (questions). The question encoder transforms questions into dense embeddings, which are used to search through a corpus for the most relevant documents. The corresponding tokenizer standardizes the questions to ensure they are correctly formatted for the encoder.\n",
        "\n",
        "- **DPR context encoder and tokenizer**: In contrast, the context encoder and its tokenizer are focused on encoding the potential answer passages or documents. This encoder creates embeddings from extensive texts, allowing the system to compare these with question embeddings to find the best match.\n"
      ]
    },
    {
      "cell_type": "code",
      "execution_count": null,
      "metadata": {
        "colab": {
          "base_uri": "https://localhost:8080/",
          "height": 280,
          "referenced_widgets": [
            "897ff61e234546f38d90c594a72e35fc",
            "8a67cfa14d8642419e33a28b66cb1bf8",
            "8e7d03069341438aaa233f2bfab07077",
            "a71099c60caf47c79c4d3addba6d1691",
            "337ebcbe6d9948469848073a4c1e2ef1",
            "8b6cba1ad7da40c4825a5d375e373241",
            "a5fd8b88b8444aff8708748b1c4b9fe8",
            "ebf315d10f3a4a5ba58fcb2beb828823",
            "76e80554c1fd49dc8a214e72df81ca8b",
            "90f7766e685b40e5950d27978350e626",
            "b956fabb056c4e0bba3662576d507b70",
            "c85ea5fbea7b47599da1cf528f85091a",
            "e5189e9298544a66b64ec2ab8c8f979f",
            "4e558417a947474dbbf1404b1d6dcc3d",
            "5e20471ebff842008b1de0c5f7a4aeee",
            "30beec774de04262a8ebcc34ff6230c6",
            "7754eae34d25467fbcd3e5567971bd6b",
            "c6059fb8c936442880496018e17f1683",
            "d30b2412e53249458c6dca01b2445766",
            "40b8522e19bd4a3f9cafb7a1b12efaf4",
            "9c61390e32094aaf956294c79a8fe00b",
            "b0828ea52d504a8e88a6ee0ce6f47851",
            "01d3c332fe844abf901853be6162fd01",
            "110f627e5f7d4f43b75a29f2c9ba12af",
            "7078a6304614469183bf8c5f810da0a5",
            "fa09cc712adf4876a8a18e4b8b7d22bd",
            "730ce8e4ac9448acb6c8cbf6cb017659",
            "797f15c280d44921b1c419274c5b86a8",
            "44fcf80f6479480fbc3480d0d8402f6d",
            "de967ab06a184275ba563318ff514501",
            "b8e02526fb4347ac8424ce5ca0e53d8b",
            "99950a02f459411aab15aca071d5b041",
            "85de7b5bb98a47e49cd34d7af11ed2ba",
            "a359246166e94255a287910be8ced903",
            "91aa1013d234477497d5ad49ffbe9fbb",
            "2957752d325b4177990bbfca0bd6f71d",
            "8930f940d21b458d8c6cbc5ca8cbd447",
            "d0b317209e1f48f4bd59d452881d2389",
            "1f083409be504be3b2231ee4705e8806",
            "1e90043d1fe74952917eed4f48237a4d",
            "a6b33ce413fc4ce9b2a012870f3cd168",
            "6ffbd9c3874f480ca7b2a1258f92f8c0",
            "49b955718d6847008aed74e691de0d33",
            "2dd83b4fda73475b85178ed1d692eb24",
            "02996fd2e3cc4995902e723e6ddd8660",
            "7c5110be032d4bc3a4688ad66e2f221c",
            "36bf5522f94d4439951c1024094a2cd0",
            "8383577f6b7941149d406f8bdb553a35",
            "337c6027e83b4bdda71b96c1a738d8ee",
            "3700fdd436844f7e90edac4f3e97b2da",
            "9713c1e6c7cf463a92e4df554ae07c00",
            "e789a925a29d45a9ab1c6019900b4db8",
            "0745047b288d4fc8997c33c19bf7e8ab",
            "cc8723bc396742eabf93291b50be569c",
            "ea391eed862842d2b93f833dd68168fa",
            "d7d6de2ac0094b0bb066d3c2f670166a",
            "70161cd3c97747aea0f5589cdeea15ac",
            "3eaf2453d93e4710ab2c51d8c319d4f0",
            "fb0809d3ae444d6bbcdfa0f32a355648",
            "3601f5d3561d4af08a8156ea4bdafb35",
            "06d2dc2d74174c8aab5a068a1fc9ac06",
            "b286488446f647ec9aa9c1863ad0286c",
            "6ae8baa637484c8aa89c85960c136313",
            "e809c193b6b5441996a9dc2ee7fe537a",
            "228de3f376934959b79b222436025b91",
            "54ac8febbfda462c9af97bb7ccf26546"
          ]
        },
        "id": "833b4f9c-fbf2-414a-b7c0-da20a73c15ee",
        "outputId": "a2232a57-36a7-439d-d2d8-b98b9ee101b1"
      },
      "outputs": [],
      "source": [
        "# Load DPR question encoder and tokenizer\n",
        "question_encoder = DPRQuestionEncoder.from_pretrained('facebook/dpr-question_encoder-single-nq-base')\n",
        "question_tokenizer = DPRQuestionEncoderTokenizer.from_pretrained('facebook/dpr-question_encoder-single-nq-base')"
      ]
    },
    {
      "cell_type": "markdown",
      "metadata": {
        "id": "33c6098c-b751-4284-9117-8f619d819e5a"
      },
      "source": [
        "# Example query and context retrieval\n",
        "\n",
        "In this part of the lab, you will demonstrate how to use the system to process a specific query and retrieve the most relevant contexts from your indexed data. This example will help illustrate how the different components of the system interact to perform a complete retrieval task.\n",
        "\n",
        "First, process an example query by converting the raw text question into a format that the DPR question encoder can understand and then encode it into a dense vector. Using the encoded question, search your prebuilt FAISS index to find the most relevant contexts. This step showcases the practical use of the FAISS index in retrieving information based on query similarity.\n",
        "\n",
        "After conducting the search for relevant contexts based on the question embedding, the output consists of two key components:\n",
        "\n",
        "- **D (Distances)**: This array contains the distances between the query embedding and the retrieved document embeddings. The distances measure the similarity between the query and each document, where lower distances indicate higher relevance. These values help determine how closely each retrieved context matches the query.\n",
        "\n",
        "- **I (Indices)**: This array holds the indices of the paragraphs within the `paragraphs` array that have been identified as the most relevant to the query. These indices correspond to the positions of the paragraphs in the original data array, allowing for easy retrieval of the actual text content.\n",
        "\n",
        "The combination of `D` and `I` provides both a quantitative measure of relevance and the specific content that is most relevant, enabling a comprehensive response to the user's query.\n"
      ]
    },
    {
      "cell_type": "code",
      "execution_count": 21,
      "metadata": {
        "colab": {
          "base_uri": "https://localhost:8080/"
        },
        "id": "58df440d-2f95-4b27-a7aa-654149d82d59",
        "outputId": "bb0ae5a7-fecd-423f-ce2b-5021530063bb"
      },
      "outputs": [
        {
          "name": "stdout",
          "output_type": "stream",
          "text": [
            "D: [[72.765305 74.71617  84.38808  88.36438  90.287094]]\n",
            "I: [[22 15 60 25 45]]\n"
          ]
        }
      ],
      "source": [
        "# Example question\n",
        "question = 'Drug and Alcohol Policy'\n",
        "question_inputs = question_tokenizer(question, return_tensors='pt')\n",
        "question_embedding = question_encoder(**question_inputs).pooler_output.detach().numpy()\n",
        "\n",
        "# Search the index\n",
        "D, I = index.search(question_embedding, k=5)  # Retrieve top 5 relevant contexts\n",
        "print(\"D:\",D)\n",
        "print(\"I:\",I)"
      ]
    },
    {
      "cell_type": "markdown",
      "metadata": {
        "id": "023e3c10-1950-4aa0-b3a0-38bf0273b4fc"
      },
      "source": [
        "You can print out Top 5 relevant contexts and their distance:\n"
      ]
    },
    {
      "cell_type": "code",
      "execution_count": 22,
      "metadata": {
        "colab": {
          "base_uri": "https://localhost:8080/"
        },
        "id": "a38b20c8-8c46-44f2-bdc8-71ef2ff4c003",
        "outputId": "c56e8301-db36-47f5-d783-4f1181694d29"
      },
      "outputs": [
        {
          "name": "stdout",
          "output_type": "stream",
          "text": [
            "Top 5 relevant contexts:\n",
            "1: 6.\tDrug and Alcohol Policy\n",
            "distance 72.76530456542969\n",
            "\n",
            "2: Policy Objective: The Drug and Alcohol Policy is established to establish clear expectations and guidelines for the responsible use of drugs and alcohol within the organization. This policy aims to maintain a safe, healthy, and productive workplace.\n",
            "distance 74.71617126464844\n",
            "\n",
            "3: Testing and Searches: The organization reserves the right to conduct drug and alcohol testing as per applicable laws and regulations. Employees may be subject to testing in cases of reasonable suspicion, post-accident, or as part of routine workplace safety measures.\n",
            "distance 84.38807678222656\n",
            "\n",
            "4: 9.\tDiscipline and Termination Policy\n",
            "distance 88.3643798828125\n",
            "\n",
            "5: Monitoring: The company retains the right to monitor internet and email usage for security and compliance purposes.\n",
            "distance 90.28709411621094\n",
            "\n"
          ]
        }
      ],
      "source": [
        "print(\"Top 5 relevant contexts:\")\n",
        "for i, idx in enumerate(I[0]):\n",
        "    print(f\"{i+1}: {paragraphs[idx]}\")\n",
        "    print(f\"distance {D[0][i]}\\n\")"
      ]
    },
    {
      "cell_type": "markdown",
      "metadata": {
        "id": "61e8747c-dfdd-4383-bb87-6e2dc7302ac8"
      },
      "source": [
        "Let's convert the above to a function:\n"
      ]
    },
    {
      "cell_type": "code",
      "execution_count": 23,
      "metadata": {
        "id": "7b551654-c50d-454a-ae77-ef5a1322d723"
      },
      "outputs": [],
      "source": [
        "def search_relevant_contexts(question, question_tokenizer, question_encoder, index, k=5):\n",
        "    \"\"\"\n",
        "    Searches for the most relevant contexts to a given question.\n",
        "\n",
        "    Returns:\n",
        "    tuple: Distances and indices of the top k relevant contexts.\n",
        "    \"\"\"\n",
        "    # Tokenize the question\n",
        "    question_inputs = question_tokenizer(question, return_tensors='pt')\n",
        "\n",
        "    # Encode the question to get the embedding\n",
        "    question_embedding = question_encoder(**question_inputs).pooler_output.detach().numpy()\n",
        "\n",
        "    # Search the index to retrieve top k relevant contexts\n",
        "    D, I = index.search(question_embedding, k)\n",
        "\n",
        "    return D, I"
      ]
    },
    {
      "cell_type": "markdown",
      "metadata": {
        "id": "3c5859c4-0830-4de7-999d-e6ac114c0b57"
      },
      "source": [
        "# Enhancing response generation with LLMs\n",
        "\n",
        "After the retrieval component selects relevant documents or passages, the Large Language Model (LLM) integrates this information with its extensive pretrained knowledge to construct coherent and contextually relevant answers. This process leverages the LLM's ability to understand and manipulate language based on the specific inputs provided by the retrieval phase, enabling the generation of precise answers to complex questions.\n",
        "\n",
        "### Loading models and tokenizers\n",
        "\n",
        "Before utilizing word embeddings, you must load an LLM to generate text. Currently, the LLM lacks specific knowledge of your dataset or task, but it possesses general knowledge.\n",
        "\n",
        "In this part of the lab, you will load essential models and their corresponding tokenizers that are pivotal for generating answers and encoding questions. This setup involves components from the Hugging Face Transformers library, renowned for its comprehensive collection of pretrained models.\n",
        "\n",
        "### GPT2 model and tokenizer\n",
        "\n",
        "GPT2 (Bidirectional and Auto-Regressive Transformers) is a powerful sequence-to-sequence model known for its effectiveness in text generation tasks:\n",
        "\n",
        "- **Model**: The GPT2 model, specifically configured for conditional text generation, excels in generating answers based on the context provided by the retrieval system. Its architecture supports complex, context-driven text generation tasks, making it ideal for applications like question answering, where nuanced and detailed responses are required.\n",
        "\n",
        "- **Tokenizer**: The corresponding tokenizer for GPT2 is crucial for preprocessing text inputs to be suitable for the model. It handles:\n",
        "  - **Tokenization**: Breaking down text into tokens that the model can process.\n",
        "  - **Token IDs conversion**: Transforming tokens into numerical identifiers that the model can understand.\n",
        "  - **Padding and truncation**: Ensuring that all input sequences are of uniform length, either by padding shorter texts or truncating longer ones to a specified maximum length.\n",
        "\n",
        "By integrating these models and tokenizers, the system is equipped to handle two critical tasks essential for effective question answering:\n",
        "- **Encoding user queries**: Utilizing the DPR question encoder and its tokenizer, user queries are transformed into a form that efficiently retrieves related information.\n",
        "- **Generating relevant answers**: The GPT2 model takes the retrieved information to generate responses that are not only relevant but also contextually rich.\n",
        "\n",
        "This combination of GPT2 for generation and DPR for question encoding creates a robust framework for your natural language processing application, enabling it to deliver accurate and context-aware responses to user inquiries.\n"
      ]
    },
    {
      "cell_type": "code",
      "execution_count": null,
      "metadata": {
        "colab": {
          "base_uri": "https://localhost:8080/",
          "height": 241,
          "referenced_widgets": [
            "5730df636d554538aa00af31500d991b",
            "db7c3f0062bc4dfb8f9b3790a2540efd",
            "9feb37ab32c64cb2ac782df95c6dac3c",
            "c8acc5e838914412a648bbda8970fe82",
            "a2020d8d7d954e828c86828767863b8a",
            "9c093610ea6f44cfbdd8095706c32e3c",
            "eac0a387e09443eabc69dd252cc139f8",
            "986d9c0316a547a29247a93f150918e2",
            "f0e53b5b4f0b4720b046b596643adae1",
            "14cf3b4752d6473e899a4749e86ef398",
            "1b5cfc6a52634d4e958437c64a8dea28",
            "dd83c3d5d86e463d98339db608a1f14a",
            "ec9dae1d81574a3b9bfbbeb1113030a2",
            "ee5c5f79f6044d7688382ed7a47d8d65",
            "c08a0ee6fffc4471b3fe693784270d85",
            "4f98716df1c84824add148f38001c00c",
            "e99d7e7905d34566ba4711c857d49b5b",
            "75d26204e2c042deab98cc0431fa8fe4",
            "88dad11ab7f743658ca1360c696e877e",
            "f25652ecd7264478a235efaa1af59edd",
            "76f954e050604bcc9daa5b1914bde1e8",
            "3db69fe7289746c7b1f0cf5c8bfa7fdb",
            "8c28672e2a7445fb990111128ebf87ce",
            "0da95f5624324383b87b8ee482ec81a6",
            "96af74f05557405db6e301b2ae5e558a",
            "a080b9c58dcb44c1a6501b544eed2d3d",
            "d35a2e9ec3304c02a402294959f036ae",
            "f4c860790ce443ff92e61dbd7cfb69a4",
            "232b3d4d8f934bb78620a2e113899208",
            "ed1e8a0498cd4d09a36e339a3a0996b6",
            "4fb3fc65ebb24f558790da102e6aaff3",
            "b070aa9a3e54469d9fea3bbe314f9d43",
            "87fc758fb046448588657aec1e6ee391",
            "af24d9002e4a4c11972d722b24b46108",
            "90293b47868c4b32a058e37f1a165b76",
            "3e0391a4e4c847e7884f058ae9b72d1b",
            "7f923ea6d2eb47d7a642935036720311",
            "1b5a6106de334d6dabf8fcf8cae1371f",
            "ad82d3895ddf4d6ab8bfe9173d235eae",
            "e3939de88836435b8c893a48dacfb464",
            "bed710f10ef843f488b94b6e1e5ddbe2",
            "8ab7c0cad91f425fa0c6d2c9b8808915",
            "094afc84dfdd4cceb32308f0151a7d40",
            "254d57b0bcec41afac059e7e6250b865",
            "3276dccadbe64a269b02e231819b7d4f",
            "9042b791d65e40fca5402caab76ba77c",
            "2550f97b7a034bfdb99aadeeb055fd3e",
            "12a6c06c71b84443ac414d40838f317a",
            "19641bb55efe4f6e9116a36a157cf2a9",
            "725ef94e8b194a82a679c7ce6dfb4457",
            "d1abf295e50f44e884b19343d7d2640a",
            "2feccbef04d84519bcdd85c0d19c6f72",
            "02ac57aed983416aba2973f9b7e37e70",
            "069348abb27d4a028d1704aeb41ee204",
            "4f5900d24faf4e72b97428541242c1dc",
            "5e45735adaf847c1a9eb465b7dcebdf1",
            "cc43191fefb24458a084fbdc8300cbe5",
            "fbb897de6d9e4461b4fbbb7cf2808fab",
            "f4fc782c8e6f4792b26777908065a966",
            "060740081c7240debb7368c569671055",
            "a748a2cdbb44489a9981b4bb71a3db73",
            "9d57b4985dfd4f7d93eecd80cc8879b2",
            "8b8b106675ac4c99af375b2b780fe053",
            "0e7a3572f28341d5a4ef7ca693847972",
            "302f05c3edc341878f77fc3a107677f1",
            "49a0b4ccfb9b4953b9f48e8f44d07dab",
            "d93a158f0530476da6d495f7b000a16e",
            "e990839ab45d474c954563003a8dd4f4",
            "314393b9129a433eb7f318110d4fca18",
            "a7691a4cea984f2294005d64d245c944",
            "404cba6f1a944f1ea8c0090fd1a18721",
            "b7350c61baf84e4493b68db52c91257f",
            "c30b0c6a55364e24b5ca2c029b471f49",
            "bddc52a4c728401b87d3727882e01987",
            "6da4e5195c1b483ea88f085bd21d027d",
            "f7c5f07af35e4b788e7390ecba061938",
            "f9cccb2596264ed6a3ca517726231e5d"
          ]
        },
        "id": "9e8bac83-45b9-4845-bad5-53bee5af82fe",
        "outputId": "5e3131c3-eae4-4062-f82c-167a14b67fbe"
      },
      "outputs": [],
      "source": [
        "tokenizer = AutoTokenizer.from_pretrained(\"openai-community/gpt2\")\n",
        "model = AutoModelForCausalLM.from_pretrained(\"openai-community/gpt2\")\n",
        "model.generation_config.pad_token_id = tokenizer.pad_token_id"
      ]
    },
    {
      "cell_type": "markdown",
      "metadata": {
        "id": "12391052-9f5a-4cb3-9d90-4929b0c66679"
      },
      "source": [
        "Input text:\n"
      ]
    },
    {
      "cell_type": "code",
      "execution_count": 25,
      "metadata": {
        "id": "0acedfe9-72be-4b7e-ac29-bfbf60546522"
      },
      "outputs": [],
      "source": [
        "contexts= \"What is a large language model?\""
      ]
    },
    {
      "cell_type": "markdown",
      "metadata": {
        "id": "18f9dd74-a839-4024-80f1-27a6db1103a3"
      },
      "source": [
        "Tokenize the input text to prepare it for the model:\n"
      ]
    },
    {
      "cell_type": "code",
      "execution_count": 26,
      "metadata": {
        "colab": {
          "base_uri": "https://localhost:8080/"
        },
        "id": "e8b108c0-2947-4000-a4f1-a53c5cfdd1a3",
        "outputId": "b629d10d-0d59-4d2e-8ce1-7e171c23546e"
      },
      "outputs": [
        {
          "name": "stdout",
          "output_type": "stream",
          "text": [
            "{'input_ids': tensor([[2061,  318,  257, 1588, 3303, 2746,   30]]), 'attention_mask': tensor([[1, 1, 1, 1, 1, 1, 1]])}\n"
          ]
        }
      ],
      "source": [
        "inputs = tokenizer(contexts, return_tensors='pt', max_length=1024, truncation=True)\n",
        "print(inputs)"
      ]
    },
    {
      "cell_type": "markdown",
      "metadata": {
        "id": "f42b90cc-b9ce-4c8c-8d96-701d5e0cc65a"
      },
      "source": [
        "Utilize the LLM to generate text, ensuring that the output is in token indexes:\n"
      ]
    },
    {
      "cell_type": "code",
      "execution_count": null,
      "metadata": {
        "colab": {
          "base_uri": "https://localhost:8080/"
        },
        "id": "d34ba4af-97d2-44be-916a-a678135d8539",
        "outputId": "48b2f48d-78ae-45cc-f19f-51978200c832"
      },
      "outputs": [],
      "source": [
        "summary_ids = model.generate(inputs['input_ids'], max_length=50, num_beams=4, early_stopping=True,\n",
        "                             pad_token_id=tokenizer.eos_token_id)\n",
        "summary_ids"
      ]
    },
    {
      "cell_type": "markdown",
      "metadata": {
        "id": "cd6283b9-5d3c-4381-92a0-3781f9619cef"
      },
      "source": [
        "Decode the generated token indexes back to text:\n"
      ]
    },
    {
      "cell_type": "code",
      "execution_count": 28,
      "metadata": {
        "colab": {
          "base_uri": "https://localhost:8080/"
        },
        "id": "09c62cc3-6ae5-4093-8e48-5e94d22977be",
        "outputId": "6f59d1a5-ee15-409a-bce3-1416ba6a7ae1"
      },
      "outputs": [
        {
          "name": "stdout",
          "output_type": "stream",
          "text": [
            "What is a large language model?\n",
            "\n",
            "A large language model is a set of rules that describe how a language should behave in a given context.\n",
            "\n",
            "A large language model is a set of rules that describe how a language should behave in a\n"
          ]
        }
      ],
      "source": [
        "summary = tokenizer.decode(summary_ids[0], skip_special_tokens=True)\n",
        "print(summary)"
      ]
    },
    {
      "cell_type": "markdown",
      "metadata": {
        "id": "10216c5a-3e90-475a-a7f2-0cfb6a90dfee"
      },
      "source": [
        "## Comparing answer generation: With and without DPR contexts\n",
        "\n",
        "In this section of the lab, you will explore how the integration of retrieval contexts from DPR affects the quality of answers generated by the GPT2 model. This comparison will help illustrate the impact of contextual information on the accuracy and relevance of the answers. The ```generate_answer``` is almost identical; it just joins the retrieved contexts from <b>Query and Context Retrieval</b>.\n"
      ]
    },
    {
      "cell_type": "markdown",
      "metadata": {
        "id": "74fd2a31-5c18-4af7-bd7e-56b4af378b3f"
      },
      "source": [
        "### Generating answers directly from questions\n",
        "\n",
        "First, let's look at how the GPT2 model generates answers without any additional context:\n"
      ]
    },
    {
      "cell_type": "code",
      "execution_count": 29,
      "metadata": {
        "id": "72a3ebe1-daa1-4793-a771-201c6b0f299e"
      },
      "outputs": [],
      "source": [
        "def generate_answer_without_context(question):\n",
        "    # Tokenize the input question\n",
        "    inputs = tokenizer(question, return_tensors='pt', max_length=1024, truncation=True)\n",
        "\n",
        "    # Generate output directly from the question without additional context\n",
        "    summary_ids = model.generate(inputs['input_ids'], max_length=150, min_length=40, length_penalty=2.0,\n",
        "                                 num_beams=4, early_stopping=True,pad_token_id=tokenizer.eos_token_id)\n",
        "\n",
        "    # Decode and return the generated text\n",
        "    answer = tokenizer.decode(summary_ids[0], skip_special_tokens=True)\n",
        "    return answer"
      ]
    },
    {
      "cell_type": "code",
      "execution_count": 30,
      "metadata": {
        "colab": {
          "base_uri": "https://localhost:8080/"
        },
        "id": "26293c3b-9e91-48b8-84fc-c77cef3fc7f2",
        "outputId": "5d592310-f0f0-4950-fb97-acd6e790a954"
      },
      "outputs": [
        {
          "name": "stdout",
          "output_type": "stream",
          "text": [
            "Answer: what is mobile policy?\n",
            "\n",
            "Mobile policy is a set of rules and regulations that govern the use of mobile phones and other electronic devices in the United States. Mobile policy is a set of rules and regulations that govern the use of mobile phones and other electronic devices in the United States. Mobile policy is a set of rules and regulations that govern the use of mobile phones and other electronic devices in the United States. Mobile policy is a set of rules and regulations that govern the use of mobile phones and other electronic devices in the United States. Mobile policy is a set of rules and regulations that govern the use of mobile phones and other electronic devices in the United States. Mobile policy is a set of rules and regulations that govern the use of mobile phones and other\n"
          ]
        }
      ],
      "source": [
        "# Example usage\n",
        "question = \"what is mobile policy?\"\n",
        "answer = generate_answer_without_context(question)\n",
        "\n",
        "print(\"Answer:\", answer)"
      ]
    },
    {
      "cell_type": "markdown",
      "metadata": {
        "id": "d8231342-6628-4e51-ae37-0d94fb1c9f73"
      },
      "source": [
        "### Generating answers with DPR contexts\n",
        "Next, let's demonstrate how answers are generated when the model utilizes contexts retrieved via DPR, which are expected to enhance the answer's relevance and depth:\n"
      ]
    },
    {
      "cell_type": "code",
      "execution_count": 31,
      "metadata": {
        "id": "0f84ae96-e1e4-4684-919f-ce5a3d27d5dd"
      },
      "outputs": [],
      "source": [
        "def generate_answer(question, contexts):\n",
        "    # Concatenate the retrieved contexts to form the input to GPT2\n",
        "    input_text = question + ' ' + ' '.join(contexts)\n",
        "    inputs = tokenizer(input_text, return_tensors='pt', max_length=1024, truncation=True)\n",
        "\n",
        "    # Generate output using GPT2\n",
        "    summary_ids = model.generate(inputs['input_ids'], max_new_tokens=50, min_length=40, length_penalty=2.0,\n",
        "                                 num_beams=4, early_stopping=True,pad_token_id=tokenizer.eos_token_id)\n",
        "    return tokenizer.decode(summary_ids[0], skip_special_tokens=True)"
      ]
    },
    {
      "cell_type": "code",
      "execution_count": 32,
      "metadata": {
        "colab": {
          "base_uri": "https://localhost:8080/"
        },
        "id": "c332c7ce-bcbb-4565-82fb-270c328a207a",
        "outputId": "21b469bd-e59b-4fe6-c32e-a57c4f68db1f"
      },
      "outputs": [
        {
          "name": "stdout",
          "output_type": "stream",
          "text": [
            "paragraphs indexs [[17 63 45 12 51]]\n"
          ]
        }
      ],
      "source": [
        "question = \"what is mobile policy?\"\n",
        "\n",
        "_,I =search_relevant_contexts(question, question_tokenizer, question_encoder, index, k=5)\n",
        "\n",
        "print(f\"paragraphs indexs {I}\")"
      ]
    },
    {
      "cell_type": "markdown",
      "metadata": {
        "id": "457c779a-e06f-4857-a539-b438b16f3132"
      },
      "source": [
        "The top paragraphs from the query and context retrieval are show here:\n"
      ]
    },
    {
      "cell_type": "code",
      "execution_count": 33,
      "metadata": {
        "colab": {
          "base_uri": "https://localhost:8080/"
        },
        "id": "f56a116e-5bf2-4c73-94a6-fb42fd26dc1d",
        "outputId": "bdcb2ef0-8a7c-4638-ad0f-a1020aac83c3"
      },
      "outputs": [
        {
          "name": "stdout",
          "output_type": "stream",
          "text": [
            "top_contexts ['4.\\tMobile Phone Policy', 'The Mobile Phone Policy sets forth the standards and expectations governing the appropriate and responsible usage of mobile devices in the organization. The purpose of this policy is to ensure that employees utilize mobile phones in a manner consistent with company values and legal compliance.', 'Monitoring: The company retains the right to monitor internet and email usage for security and compliance purposes.', 'Acceptable Use: Mobile devices are primarily intended for work-related tasks. Limited personal usage is allowed, provided it does not disrupt work obligations.', 'The Mobile Phone Policy is aimed at promoting the responsible and secure use of mobile devices in line with legal and ethical standards. Every employee is expected to comprehend and abide by these guidelines. Regular reviews of the policy ensure its ongoing alignment with evolving technology and security best practices.']\n"
          ]
        }
      ],
      "source": [
        "top_contexts = [paragraphs[idx] for idx in I[0]]\n",
        "print(f\"top_contexts {top_contexts}\")"
      ]
    },
    {
      "cell_type": "markdown",
      "metadata": {
        "id": "d7128b2f-ba54-4092-b37c-3d8d2d86363b"
      },
      "source": [
        "You can input the response from the model.\n"
      ]
    },
    {
      "cell_type": "code",
      "execution_count": 34,
      "metadata": {
        "colab": {
          "base_uri": "https://localhost:8080/"
        },
        "id": "19da017b-ae0e-435c-89c4-de61527121be",
        "outputId": "4d7a9ede-ba02-4ddb-955b-8e5917e35588"
      },
      "outputs": [
        {
          "name": "stdout",
          "output_type": "stream",
          "text": [
            "Generated Answer: what is mobile policy? 4.\tMobile Phone Policy The Mobile Phone Policy sets forth the standards and expectations governing the appropriate and responsible usage of mobile devices in the organization. The purpose of this policy is to ensure that employees utilize mobile phones in a manner consistent with company values and legal compliance. Monitoring: The company retains the right to monitor internet and email usage for security and compliance purposes. Acceptable Use: Mobile devices are primarily intended for work-related tasks. Limited personal usage is allowed, provided it does not disrupt work obligations. The Mobile Phone Policy is aimed at promoting the responsible and secure use of mobile devices in line with legal and ethical standards. Every employee is expected to comprehend and abide by these guidelines. Regular reviews of the policy ensure its ongoing alignment with evolving technology and security best practices.\n",
            "\n",
            "The Mobile Phone Policy sets forth the standards and expectations governing the appropriate and responsible usage of mobile devices in the organization. The purpose of this policy is to ensure that employees utilize mobile phones in a manner consistent with company values and legal compliance. Monitoring\n"
          ]
        }
      ],
      "source": [
        "# Assume `I[0]` contains indices of top contexts from the retrieval step\n",
        "answer = generate_answer(question, top_contexts)\n",
        "print(\"Generated Answer:\", answer)"
      ]
    },
    {
      "cell_type": "markdown",
      "metadata": {
        "id": "4994f490-2a1e-4231-9d6f-43c6a1cbd65f"
      },
      "source": [
        "## Observations and results\n",
        "\n",
        "After experimenting with generating answers using GPT2 both directly and with the augmentation of DPR contexts, you can observe significant differences in the quality and relevance of the generated answers:\n",
        "- **Direct generation**:\n",
        "  - Without DPR contexts, GPT2 relies solely on its pretrained knowledge to infer answers. This approach can sometimes lead to less precise or overly generic responses, as the model lacks specific information related to the query.\n",
        "- **Generation with DPR contexts**:\n",
        "  - Incorporating DPR allows GPT2 to access specific information relevant to the query. This significantly enhances the accuracy and details of the generated answers, providing more informed and contextually appropriate responses.\n",
        "\n",
        "The comparison clearly shows that integrating DPR retrieval with generative models such as GPT2 leads to more effective and contextually relevant answers. This demonstrates the effectiveness of combining retrieval and generation techniques in natural language processing applications, where the context provided by DPR can greatly improve the quality of the generated content.\n"
      ]
    }
  ],
  "metadata": {
    "accelerator": "TPU",
    "colab": {
      "gpuType": "V28",
      "provenance": []
    },
    "kernelspec": {
      "display_name": "Python 3",
      "name": "python3"
    },
    "language_info": {
      "codemirror_mode": {
        "name": "ipython",
        "version": 3
      },
      "file_extension": ".py",
      "mimetype": "text/x-python",
      "name": "python",
      "nbconvert_exporter": "python",
      "pygments_lexer": "ipython3",
      "version": "3.11.9"
    },
    "prev_pub_hash": "84bddf8cd9be30004253f8e5b287cf12e38333083dc5f635d00d4bf21218ba9d"
  },
  "nbformat": 4,
  "nbformat_minor": 0
}
